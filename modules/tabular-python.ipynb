{
  "cells": [
    {
      "cell_type": "raw",
      "metadata": {},
      "source": [
        "---\n",
        "title: Analyzing FHIR Data in a Tabular Format With Python\n",
        "\n",
        "roles:\n",
        "  - Informaticist\n",
        "\n",
        "learning_objectives2:\n",
        "  - Understand the high-level approaches for converting FHIR-formatted data into tabular for analysis in Python.\n",
        "  - Learn how the FHIR-PYrate library facilitates requesting data from a FHIR server, and creating tidy tabular data tables.\n",
        "\n",
        "execute:\n",
        "  cache: true\n",
        "---"
      ],
      "id": "f8e1ac96"
    },
    {
      "cell_type": "markdown",
      "metadata": {},
      "source": [
        "Data analysis approaches in Python often use [Pandas DataFrames](https://pandas.pydata.org/pandas-docs/stable/reference/api/pandas.DataFrame.html) to store tabular data. There are two primary approaches to loading FHIR-formatted data into Pandas DataFrames:\n",
        "\n",
        "1.  Writing Python code to manually convert FHIR instances in JSON format into DataFrames.\n",
        "\n",
        "    This does not require any special skills beyond data manipulation in Python, but in practice can be laborious (especially with large number of data elements) and prone to bugs.\n",
        "\n",
        "2.  Using a purpose-built library like [FHIR-PYrate](https://github.com/UMEssen/FHIR-PYrate) to automatically convert FHIR instances into DataFrames.\n",
        "\n",
        "    It is recommended to try this approach first, and only fall back to (1) if needed.\n",
        "\n",
        "To use FHIR-PYrate, you will need a [Python 3](https://docs.python.org/3/tutorial/index.html) runtime with FHIR-PYrate and Pandas installed.\n",
        "\n",
        "::: callout-info\n",
        "## FHIR testing server\n",
        "\n",
        "The examples in this module use a FHIR testing server populated with [Synthea data in FHIR R4 format](https://synthea.mitre.org/downloads) via [Logica Health](https://www.logicahealth.org)'s [Sandbox service](https://www.logicahealth.org/solutions/fhir-sandbox/).\n",
        "\n",
        "The endpoint for this testing server is:\n",
        "\n",
        "```\n",
        "https://api.logicahealth.org/FHIRResearchSynthea/open\n",
        "```\n",
        "\n",
        "However, any FHIR server loaded with testing data can be used. See [Standing up a FHIR Testing Server](synthea-test-server.qmd) for instructions to set up your own test server.\n",
        "\n",
        "The code blocks in the following section show sample output immediately after. This is similar to the code cells and results in a [Jupyter notebook](https://jupyter.org).\n",
        ":::\n",
        "\n",
        "## Retrieving FHIR data\n",
        "\n",
        "Once your environment is set up, you can run the following Python code to retrieve instances of the Patient resource from a test server:\n"
      ],
      "id": "f79dadf6"
    },
    {
      "cell_type": "code",
      "metadata": {},
      "source": [
        "# Load dependencies\n",
        "from fhir_pyrate import Pirate\n",
        "import pandas as pd\n",
        "\n",
        "# Instantiate a Pirate object using the FHIR-PYrate library to query a test FHIR server\n",
        "search = Pirate(\n",
        "    auth=None,\n",
        "    base_url=\"https://api.logicahealth.org/FHIRResearchSynthea/open/\",\n",
        "    print_request_url=True,\n",
        ")\n",
        "\n",
        "# Use the whimsically named `steal_bundles()` method to instantiate a search interaction\n",
        "#\n",
        "# For more information, see https://github.com/UMEssen/FHIR-PYrate/#pirate\n",
        "bundles = search.steal_bundles(\n",
        "    resource_type='Patient',\n",
        "    request_params={\n",
        "        \"_count\": 10 # Get 10 instances per page\n",
        "    },\n",
        "    num_pages=1 # Get 1 page (so a total of 10 instances)\n",
        ")\n",
        "\n",
        "# Execute the search and convert to a Pandas DataFrame\n",
        "df = search.bundles_to_dataframe(bundles)\n",
        "\n",
        "df.head(5)"
      ],
      "id": "fb8b7797",
      "execution_count": null,
      "outputs": []
    },
    {
      "cell_type": "markdown",
      "metadata": {},
      "source": [
        "It is easier to see the contents of this DataFrame by printing out its first row vertically:\n"
      ],
      "id": "7f904c3f"
    },
    {
      "cell_type": "code",
      "metadata": {},
      "source": [
        "# Print the first row of the DataFrame vertically for easier reading.\n",
        "pd.set_option('display.max_rows', 100)  # Show all rows\n",
        "df.head(1).T"
      ],
      "id": "e525aac0",
      "execution_count": null,
      "outputs": []
    },
    {
      "cell_type": "markdown",
      "metadata": {},
      "source": [
        "If you look at the output above, you can see FHIR-PYrate collapsed the hierarchical FHIR data structure into DataFrame columns. FHIR-PYrate does this by taking an element from the FHIR-formatted data like `Patient.identifier[0].value` and converting to an underscore-delimited column name like `identifier_0_value`. (Note that `Patient.identifier` has multiple values in the FHIR data, so there are multiple `identifier_N_...` columns in the DataFrame.)\n",
        "\n",
        "## Selecting specific columns\n",
        "\n",
        "Usually not every single value from a FHIR instance is needed for analysis. There are two ways to get a more concise DataFrame:\n",
        "\n",
        "1.  Use the approach above to load all elements into a DataFrame, remove the unneeded columns, and rename the remaining columns as needed. The [`process_function` capability in FHIR-PYrate](https://github.com/UMEssen/FHIR-PYrate#bundles_to_dataframe) allows you to integrate this approach into the `bundles_to_dataframe()` method call.\n",
        "2.  Use [FHIRPath](https://hl7.org/fhirpath/) to select specific elements and map them onto column names.\n",
        "\n",
        "The second approach is typically more concise. For example, to generate a DataFrame like this...\n",
        "\n",
        "| id  | gender | date_of_birth | marital_status |\n",
        "|-----|--------|---------------|----------------|\n",
        "| ... | ...    | ...           | ...            |\n",
        "\n",
        "...you could use the following code:\n"
      ],
      "id": "a12cee48"
    },
    {
      "cell_type": "code",
      "metadata": {},
      "source": [
        "# Instantiate and perform the FHIR search interaction in a single function call\n",
        "df = search.steal_bundles_to_dataframe(\n",
        "    resource_type='Patient',\n",
        "    request_params={\n",
        "        \"_count\": 10  # Get 10 instances per page\n",
        "    },\n",
        "    num_pages=1,  # Get 1 page (so a total of 10 instances)\n",
        "    fhir_paths=[\n",
        "        (\"id\", \"identifier[0].value\"),\n",
        "        (\"gender\", \"gender\"),\n",
        "        (\"date_of_birth\", \"birthDate\"),\n",
        "        (\"marital_status\", \"maritalStatus.coding[0].code\")\n",
        "    ])\n",
        "df"
      ],
      "id": "22fc1754",
      "execution_count": null,
      "outputs": []
    },
    {
      "cell_type": "markdown",
      "metadata": {},
      "source": [
        "While FHIRPath can be quite complex, its use in FHIR-PYrate is often straight forward. Nested elements are separated with `.`, and elements with multiple sub-values are identified by `[N]` where `N` is an integer starting at 0. The element paths can typically be constructed by loading all elements into a DataFrame and then manually deriving the FHIRPaths from the column names, or by looking at the hierarchy resource pages in the FHIR specification (see [Key FHIR Resources](key-fhir-resources.qmd) for more information on reading the FHIR specification).\n",
        "\n",
        "## Elements with multiple sub-values\n",
        "\n",
        "There are multiple `identifier[N].value` values for each instance of Patient in this dataset.\n"
      ],
      "id": "bfbd6ac4"
    },
    {
      "cell_type": "code",
      "metadata": {},
      "source": [
        "# Instantiate and perform the FHIR search interaction in a single function call\n",
        "df = search.steal_bundles_to_dataframe(\n",
        "    resource_type='Patient',\n",
        "    request_params={\n",
        "        \"_count\": 10  # Get 10 instances per page\n",
        "    },\n",
        "    num_pages=1,  # Get 1 page (so a total of 10 instances)\n",
        "    fhir_paths=[\n",
        "        (\"id\", \"identifier[0].value\"),\n",
        "        (\"identifiers\", \"identifier.value\")\n",
        "    ])\n",
        "df"
      ],
      "id": "050ebf75",
      "execution_count": null,
      "outputs": []
    },
    {
      "cell_type": "markdown",
      "metadata": {},
      "source": [
        "To convert to separate columns, you can do the following:\n"
      ],
      "id": "e4d3d998"
    },
    {
      "cell_type": "code",
      "metadata": {},
      "source": [
        "df.join(\n",
        "    pd.DataFrame(\n",
        "        df.pop('identifiers').values.tolist()\n",
        "    ).add_prefix('identifier_')\n",
        ")"
      ],
      "id": "904d8d93",
      "execution_count": null,
      "outputs": []
    },
    {
      "cell_type": "markdown",
      "metadata": {},
      "source": [
        "This will give you separate `identifier_0`, `identifier_1`, ... columns for each `Patient.identifier[N]` value.\n",
        "\n",
        "## Retrieving related data\n",
        "\n",
        "To retrieve instances of related resources, additional `request_params` can be added. See [Using the FHIR API to Access Data](fhir-accessing-data.qmd#multiple-types-of-resources) for more information on constructing the parameters for FHIR search interactions.\n",
        "\n",
        "In the example below, instances of Patient and instances of related Observation resources are requested:\n"
      ],
      "id": "1238fade"
    },
    {
      "cell_type": "code",
      "metadata": {},
      "source": [
        "# Instantiate and perform the FHIR search interaction in a single function call\n",
        "dfs = search.steal_bundles_to_dataframe(\n",
        "    resource_type='Patient',\n",
        "    request_params={\n",
        "        # Get instances of Observation where `Observation.patient` refers to a fetched Patient instance\n",
        "        \"_revinclude\": \"Observation:patient\",\n",
        "\n",
        "        \"_count\": 10  # Get 10 instances per page\n",
        "    },\n",
        "    num_pages=1,  # Get 1 page (so a total of 10 instances)\n",
        ")\n",
        "\n",
        "# `dfs` is a dictionary where the key is the FHIR resource type, and the value is the DataFrame\n",
        "#\n",
        "# Split these into separate variables for easy access:\n",
        "df_patients = dfs['Patient']\n",
        "df_observations = dfs['Observation']\n",
        "\n",
        "# Look at the first row of the Observations DataFrame\n",
        "df_observations.head(1).T"
      ],
      "id": "3c2f681c",
      "execution_count": null,
      "outputs": []
    },
    {
      "cell_type": "markdown",
      "metadata": {},
      "source": [
        "As of April 2023, FHIR-PYrate [does not have a good approach to `fhir_paths` for searches that return instances of multiple FHIR resource types](https://github.com/UMEssen/FHIR-PYrate#bundles_to_dataframe).\n",
        "\n",
        "To work around this, you can also iterate over all the rows in a DataFrame and request related resources using [`trade_rows_for_bundles()`](https://github.com/UMEssen/FHIR-PYrate#trade_rows_for_bundles):\n"
      ],
      "id": "3a7913e7"
    },
    {
      "cell_type": "code",
      "metadata": {},
      "source": [
        "df_observations2 = search.trade_rows_for_dataframe(\n",
        "    df_patients,\n",
        "    resource_type=\"Observation\",\n",
        "\n",
        "    # Limit to 10 instances of Observation per patient\n",
        "    request_params={\n",
        "        \"_count\": \"10\"\n",
        "    },\n",
        "    num_pages=1,\n",
        "\n",
        "    # Load Observations where `Observation.subject` references the instance of Patient\n",
        "    # identified by `id` in the `df_patients` DataFrame\n",
        "    df_constraints={\"subject\": \"id\"},\n",
        "    fhir_paths=[\n",
        "      (\"observation_id\", \"id\"),\n",
        "      (\"patient\", \"subject.reference\"),\n",
        "      (\"status\", \"status\"),\n",
        "      (\"code\", \"code.coding[0].code\"),\n",
        "      (\"code_display\", \"code.coding[0].display\"),\n",
        "      (\"value\", \"valueQuantity.value\"),\n",
        "      (\"value_units\", \"valueQuantity.unit\"),\n",
        "      (\"datetime\", \"effectiveDateTime\")\n",
        "    ]\n",
        ")\n",
        "\n",
        "# Look at the first row of the Observations DataFrame\n",
        "df_observations2.head(15)"
      ],
      "id": "cb893160",
      "execution_count": null,
      "outputs": []
    },
    {
      "cell_type": "markdown",
      "metadata": {},
      "source": [
        "Note that this will only display `value` for instances of Observation that record a value in `Observation.valueQuantity`. Typically, you would filter by `Observation.code` and then choose the appropriate data type for `Observation.value[x]` to import. For example, `http://loinc.org|72166-2` is the LOINC for smoking status. To get smoking status records for all patients in `df_patients`:\n"
      ],
      "id": "30b72d21"
    },
    {
      "cell_type": "code",
      "metadata": {},
      "source": [
        "df_observations2 = search.trade_rows_for_dataframe(\n",
        "    df_patients,\n",
        "    resource_type=\"Observation\",\n",
        "\n",
        "    # Limit to 10 instances of Observation per patient\n",
        "    request_params={\n",
        "        \"_count\": \"10\",\n",
        "        \"code\": \"http://loinc.org|72166-2\"\n",
        "    },\n",
        "    num_pages=1,\n",
        "\n",
        "    # Load Observations where `Observation.subject` references the instance of Patient\n",
        "    # identified by `id` in the `df_patients` DataFrame\n",
        "    df_constraints={\"subject\": \"id\"},\n",
        "    fhir_paths=[\n",
        "      (\"observation_id\", \"id\"),\n",
        "      (\"patient\", \"subject.reference\"),\n",
        "      (\"status\", \"status\"),\n",
        "      (\"code\", \"code.coding[0].code\"),\n",
        "      (\"code_display\", \"code.coding[0].display\"),\n",
        "      (\"value\", \"valueCodeableConcept.coding[0].code\"),\n",
        "      (\"value_display\", \"valueCodeableConcept.coding[0].display\"),\n",
        "      (\"datetime\", \"effectiveDateTime\")\n",
        "    ]\n",
        ")\n",
        "\n",
        "# Look at the first row of the Observations DataFrame\n",
        "df_observations2.head(15)"
      ],
      "id": "f6c3250a",
      "execution_count": null,
      "outputs": []
    },
    {
      "cell_type": "markdown",
      "metadata": {},
      "source": [
        "More information about the [`search` interaction used above to filter Observations is here](fhir-accessing-data.qmd#getting-all-patients-that-meet-specified-criteria).\n",
        "\n",
        "## Additional resources\n",
        "\n",
        "NIH's Office of Data Science Strategy has [online exercises](https://datascience.nih.gov/fhir-initiatives/researchers-training) for converting FHIR-formatted data into tabular format for further analysis. These exercises include implementations in both Python and R.\n",
        "\n",
        "Note that the Python version of these exercises was created before the FHIR-PYrate library existed, so they use the \"writing Python code to manually convert FHIR instances in JSON Format into DataFrames\" approach. This approach may still be useful for use cases that are not well-supported by FHIR-PYrate or for integrating FHIR data with data from other web APIs."
      ],
      "id": "6e8d23d9"
    }
  ],
  "metadata": {
    "kernelspec": {
      "display_name": "Python 3",
      "language": "python",
      "name": "python3"
    }
  },
  "nbformat": 4,
  "nbformat_minor": 5
}